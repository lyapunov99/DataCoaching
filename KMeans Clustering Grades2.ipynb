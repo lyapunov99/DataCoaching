{
 "cells": [
  {
   "cell_type": "markdown",
   "id": "bf498d6a",
   "metadata": {},
   "source": [
    "# K-Means Exercise:  Student Clusters\n",
    "\n",
    "\n",
    "What is differentiated instruction, and why do you care?\n",
    "\n",
    "If you are interested in diminishing  inequities in your practice, your department, your college, or your institution, what is the measure of that disparate impact?  What are the methods of intervention you will consider?  What data sources will you look at?  \n",
    "\n",
    "Observing available data \"bootstraps\" this process of bringing to light inequities in a practice or in a system.  Participatory  Action Research (PAR) is a framework that helps us think about our students, our practice, and our institution. \n",
    "\n",
    "Take a look at the following table of hypothetical student scores in Math and Physics:\n",
    "\n",
    "\n",
    "\n",
    "| Student | Physics | Math |\n",
    "| ------- | ------- | ---- |\n",
    "| P       | 15      | 20   |\n",
    "| Q       | 20      | 15   |\n",
    "| R       | 26      | 21   |\n",
    "| X       | 44      | 52   |\n",
    "| Y       | 50      | 45   |\n",
    "| Z       | 57      | 38   |\n",
    "| A       | 80      | 85   |\n",
    "| B       | 90      | 88   |\n",
    "| C       | 98      | 98   |\n"
   ]
  },
  {
   "cell_type": "code",
   "execution_count": 72,
   "id": "f4c0db4b",
   "metadata": {},
   "outputs": [
    {
     "data": {
      "image/png": "[encoded data removed]",
      "text/plain": [
       "<Figure size 432x288 with 1 Axes>"
      ]
     },
     "metadata": {
      "needs_background": "light"
     },
     "output_type": "display_data"
    }
   ],
   "source": [
    "import numpy as np\n",
    "import matplotlib.pyplot as plt\n",
    "\n",
    "# Physics and Math scores as ordered pairs\n",
    "#besX = np.array([[15,20],[20,15],[26,21],[44,52],[50,45],[57,38],[80,85],[90,88],[98,98] ])   #this works. Offer as orderd pairs\n",
    "\n",
    "# Or using 4 lines\n",
    "physicsScores = np.array([15,20,26,44,50,57,80,90,98])\n",
    "mathScores    = np.array([20,15,21,52,45,38,85,88,98])\n",
    "besPairedList = [[x,y] for x,y in zip(physicsScores, mathScores)  ]   #forms ordered pairs\n",
    "X = np.array(besPairedList)\n",
    "\n",
    "plt.scatter(X[:, 0], X[:, 1])  # X[:,0] = all rows, column 0 (Physics), X[:,-1] = X[:,size-1] = x[:,1]\n",
    "plt.title('Physics and Math Scores' )\n",
    "plt.xlabel('Physics Scores')\n",
    "plt.ylabel('Math Scores')\n",
    "plt.show()"
   ]
  },
  {
   "cell_type": "code",
   "execution_count": 77,
   "id": "aabecfb5",
   "metadata": {},
   "outputs": [
    {
     "name": "stdout",
     "output_type": "stream",
     "text": [
      "Centroids:\n",
      "[[50.33333333 45.        ]\n",
      " [89.33333333 90.33333333]\n",
      " [20.33333333 18.66666667]]\n",
      "Cluster assignments: \n",
      "[2 2 2 0 0 0 1 1 1]\n"
     ]
    }
   ],
   "source": [
    "from sklearn.cluster import KMeans\n",
    "\n",
    "\n",
    "# COMPUTE K-MEANS Clustering\n",
    "\n",
    "# Use Scikit to analyze data and produce\n",
    "kmeans = KMeans(n_clusters=3, random_state=0)\n",
    "\n",
    "# Computer K-means clustering\n",
    "kmeans.fit(X)\n",
    "\n",
    "# Compute cluster centers and predict cluster index for each sample.\n",
    "kmeans.predict(X)  # set indices of appropriate clusters\n",
    "\n",
    "print(\"Centroids:\")\n",
    "print(kmeans.cluster_centers_)  # show the centroids (k centroids for  k clusters)\n",
    "\n",
    "print(\"Cluster assignments: \")\n",
    "categories=kmeans.labels_ \n",
    "print(categories)           # show the k classes (0 or 1) that each ordered pair belongs in \n",
    "\n"
   ]
  },
  {
   "cell_type": "markdown",
   "id": "55f3a8f8",
   "metadata": {},
   "source": [
    "# Basic Plotting\n",
    "In order to see  the data points and the centroids, we'll plot both.  For the next run, we want to plot clusters and centroids by color."
   ]
  },
  {
   "cell_type": "code",
   "execution_count": 75,
   "id": "2febf9b0",
   "metadata": {},
   "outputs": [
    {
     "data": {
      "image/png": "[encoded data removed]",
      "text/plain": [
       "<Figure size 432x288 with 1 Axes>"
      ]
     },
     "metadata": {
      "needs_background": "light"
     },
     "output_type": "display_data"
    }
   ],
   "source": [
    "\n",
    "plt.scatter(X[:, 0], X[:, -1])\n",
    "plt.scatter(kmeans.cluster_centers_[:, 0], kmeans.cluster_centers_[:, 1], c='red', marker='x')\n",
    "    \n",
    "plt.title('Data points and cluster centroids')\n",
    "plt.xlabel('Physics Scores')\n",
    "plt.ylabel('Math Scores')\n",
    "plt.show()"
   ]
  },
  {
   "cell_type": "code",
   "execution_count": 76,
   "id": "fed00bbf",
   "metadata": {},
   "outputs": [
    {
     "data": {
      "image/png": "[encoded data removed]",
      "text/plain": [
       "<Figure size 432x288 with 1 Axes>"
      ]
     },
     "metadata": {
      "needs_background": "light"
     },
     "output_type": "display_data"
    },
    {
     "data": {
      "text/plain": [
       "array([[15, 20],\n",
       "       [20, 15],\n",
       "       [26, 21],\n",
       "       [44, 52],\n",
       "       [50, 45],\n",
       "       [57, 38],\n",
       "       [80, 85],\n",
       "       [90, 88],\n",
       "       [98, 98]])"
      ]
     },
     "execution_count": 76,
     "metadata": {},
     "output_type": "execute_result"
    }
   ],
   "source": [
    "\n",
    "colormap = np.array(['r', 'g', 'b'])\n",
    "\n",
    "plt.scatter(X[:, 0], X[:, 1], s=10, c=colormap[categories], marker=',')\n",
    "\n",
    "# Show cluster centers\n",
    "plt.scatter(kmeans.cluster_centers_[:, 0], kmeans.cluster_centers_[:, 1], c='black', s=100, marker='x')\n",
    "\n",
    "\n",
    "plt.title('Visualizing Student Clusters')\n",
    "plt.xlabel('Physics Scores')\n",
    "plt.ylabel('Math Scores')\n",
    "\n",
    "plt.savefig('ScatterClassPlot.png')\n",
    "plt.show()\n",
    "X"
   ]
  },
  {
   "cell_type": "markdown",
   "id": "2ed13f46",
   "metadata": {},
   "source": [
    "It appears that we have 3 clusters in our graph.  Could this happen in reality? Is this information \n",
    "that you want to know about as a counselor, caculty, or school dean?  Is it important enough to you to try do something about the clustering you see?\n",
    "\n",
    "If you undergo an attempt to diminish the disparities, what questions will you ask?  If you wish to research the efficacy of your interventions, what data will you look at? What pre and post-tests will you perform in your research?  And in this  research\" endeavor, who is the subject?  Yourself, the students, the institution?  The [Participatory Action Research](https://en.wikipedia.org/wiki/Participatory_action_research)  framework starts with the idea that there are multiple participants in this research."
   ]
  },
  {
   "cell_type": "markdown",
   "id": "237980f0",
   "metadata": {},
   "source": [
    "# Evaluating the Cluster: silhouette scores\n",
    "\n",
    "- value b/t 1 and -1\n",
    "- 1 is best for any single data point\n",
    "- -1 is worst\n",
    "- values near zero indicate overlapping clusters\n",
    "- Can be used to determine an adequate value for k"
   ]
  },
  {
   "cell_type": "code",
   "execution_count": 45,
   "id": "34b611de",
   "metadata": {},
   "outputs": [
    {
     "name": "stdout",
     "output_type": "stream",
     "text": [
      "0.73739572946484\n"
     ]
    }
   ],
   "source": [
    "# Calculate silhouette_score\n",
    "from sklearn.metrics import silhouette_score\n",
    "\n",
    "print(silhouette_score(X, kmeans.labels_))"
   ]
  },
  {
   "cell_type": "markdown",
   "id": "701d888f",
   "metadata": {},
   "source": [
    "# Resources and References\n",
    "\n",
    "\n",
    "### K-Means Help\n",
    "\n",
    "A basic K-means [clustering tutorial](https://www.machinecurve.com/index.php/2020/04/16/how-to-perform-k-means-clustering-with-python-in-scikit/)\n",
    "\n",
    "Another wonderfully simple  tutorial is [here](https://blog.floydhub.com/introduction-to-k-means-clustering-in-python-with-scikit-learn/)\n",
    "\n",
    "A  _detailed_ and rather thorough reference on scikit API and proper use of [clustering library](https://scikit-learn.org/stable/modules/clustering.html).\n",
    "\n",
    "Overal scikit user guide is [here](https://scikit-learn.org/stable/user_guide.html)\n",
    "\n",
    "\n",
    "#### Standardization:\n",
    "The subject scores here do not need standardization, but if were working with variables between 0 and 1, and another variable between 0 and 100, the larger variable would dominate, leading to biased results.  Each value of each variable can be converted to a standard z-score to place them all on the same scale\n",
    "\n",
    "$z=\\frac{x-\\mu}{\\sigma}$\n",
    "\n",
    "#### Covariance Computations:\n",
    "Are the variables related to one another? Is there any correlation?  Compute the covariance matrix to determine if there's redundant information, thereby allowing us to reduce dimensionality.\n",
    "\n",
    "#### Eigenvalues and PCA\n",
    "Computer the eigenvalues in order to determine the _principal components_ of the data.  Not all data is highly correlated, so not all information is highly predictive: the correlation coefficient ($\\r^2$) was useful in elementary statistics for revealing the percentage of explained variance.  Data that don't explain the variance, do not capture significant amounts of information. \n",
    "[Tutorial1](https://builtin.com/data-science/step-step-explanation-principal-component-analysis) which is derived from  [this here](http://strata.uga.edu/8370/handouts/pcaTutorial.pdf)\n",
    "\n",
    "\n",
    "\n",
    "### K-Means applied\n",
    "[Looking at student feedback, UCI data: Identifying Hidden Patterns in Students' Feedback through Cluster Analysis](http://www.ijcte.org/vol7/923-V018.pdf)\n",
    "\n",
    "### Plotting Help\n",
    "\n",
    "Plotting:  [Creating a scatter plot with multiple colors](https://moonbooks.org/Articles/How-to-create-a-scatter-plot-with-several-colors-in-matplotlib-/)\n",
    "Changing plot marker [symbols](https://matplotlib.org/stable/api/markers_api.html#module-matplotlib.markers)\n"
   ]
  },
  {
   "cell_type": "code",
   "execution_count": null,
   "id": "78b56bce",
   "metadata": {},
   "outputs": [],
   "source": []
  },
  {
   "cell_type": "code",
   "execution_count": null,
   "id": "3a74bc95",
   "metadata": {},
   "outputs": [],
   "source": []
  }
 ],
 "metadata": {
  "kernelspec": {
   "display_name": "Python 3",
   "language": "python",
   "name": "python3"
  },
  "language_info": {
   "codemirror_mode": {
    "name": "ipython",
    "version": 3
   },
   "file_extension": ".py",
   "mimetype": "text/x-python",
   "name": "python",
   "nbconvert_exporter": "python",
   "pygments_lexer": "ipython3",
   "version": "3.8.8"
  }
 },
 "nbformat": 4,
 "nbformat_minor": 5
}
