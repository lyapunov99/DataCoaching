{
 "cells": [
  {
   "cell_type": "code",
   "execution_count": 14,
   "id": "e17b328f-2241-45f0-ba0d-38356bb57a4b",
   "metadata": {},
   "outputs": [
    {
     "name": "stdout",
     "output_type": "stream",
     "text": [
      "[[ 0  1  2  3  4]\n",
      " [ 5  6  7  8  9]\n",
      " [10 11 12 13 14]]\n"
     ]
    }
   ],
   "source": [
    "import numpy as np\n",
    "x = np.arange(15)\n",
    "x.shape = (3,5)\n",
    "print(x)\n"
   ]
  },
  {
   "cell_type": "code",
   "execution_count": 27,
   "id": "0aa32ed3-e4c3-46fd-bffb-316a375fd49b",
   "metadata": {},
   "outputs": [
    {
     "data": {
      "text/plain": [
       "array([[ 0,  1,  2,  3,  4],\n",
       "       [ 5,  6,  7,  8,  9],\n",
       "       [10, 11, 12, 13, 14]])"
      ]
     },
     "execution_count": 27,
     "metadata": {},
     "output_type": "execute_result"
    }
   ],
   "source": [
    "x"
   ]
  },
  {
   "cell_type": "code",
   "execution_count": 28,
   "id": "74fb8438-01f2-481b-b0c8-ce2e0e1b0d7c",
   "metadata": {},
   "outputs": [
    {
     "data": {
      "text/plain": [
       "array([[0, 1, 2, 3, 4],\n",
       "       [5, 6, 7, 8, 9]])"
      ]
     },
     "execution_count": 28,
     "metadata": {},
     "output_type": "execute_result"
    }
   ],
   "source": [
    "x[0:-1]  # Think of this as though it's an array of arrays. This only prints indices 0,1,2,..., maxIndex-1, or [0:(2-1)] = [0:1]"
   ]
  },
  {
   "cell_type": "code",
   "execution_count": 17,
   "id": "931d87b5-95e0-41ed-9cb4-808d9e2bf85c",
   "metadata": {},
   "outputs": [
    {
     "data": {
      "text/plain": [
       "array([[5, 6, 7, 8, 9]])"
      ]
     },
     "execution_count": 17,
     "metadata": {},
     "output_type": "execute_result"
    }
   ],
   "source": [
    "x[1:-1] # Same as x[1:maxIndex-1] = x[1:(2-1)] = x[1:1].  Array starting with 5"
   ]
  },
  {
   "cell_type": "code",
   "execution_count": 20,
   "id": "9158d213-889a-4af4-a71f-6486deb94049",
   "metadata": {},
   "outputs": [],
   "source": [
    "y=[1,2]"
   ]
  }
 ],
 "metadata": {
  "kernelspec": {
   "display_name": "Python 3",
   "language": "python",
   "name": "python3"
  },
  "language_info": {
   "codemirror_mode": {
    "name": "ipython",
    "version": 3
   },
   "file_extension": ".py",
   "mimetype": "text/x-python",
   "name": "python",
   "nbconvert_exporter": "python",
   "pygments_lexer": "ipython3",
   "version": "3.8.8"
  }
 },
 "nbformat": 4,
 "nbformat_minor": 5
}
