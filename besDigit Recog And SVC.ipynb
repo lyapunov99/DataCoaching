{
 "cells": [
  {
   "cell_type": "markdown",
   "id": "8edd25f8-379f-4912-b3fa-69c674da8674",
   "metadata": {},
   "source": [
    "# Working with digits and SVCs (as opposed to SVMs)\n",
    "Note that SVMs are supervised classifying algorithms, and SVCs work with unlabelled data and are appropriate for _unsupervised_ learning.\n",
    "\n",
    "The example here: hand-written character recognition\n",
    "- SVC: Support-Vector Clustering (SVC)\n",
    "- SVM: Support-Vector Machines \n",
    "\n",
    "To see Bill Noble's summary, go [here](https://www.ifi.uzh.ch/dam/jcr:00000000-7f84-9c3b-ffff-ffffc550ec57/what_is_a_support_vector_machine.pdf)\n"
   ]
  },
  {
   "cell_type": "code",
   "execution_count": 57,
   "id": "2aa4666d-913a-4da3-9160-467462a98be9",
   "metadata": {},
   "outputs": [
    {
     "name": "stdout",
     "output_type": "stream",
     "text": [
      "1797\n",
      "[0 1 2 3 4 5 6 7 8 9 0 1 2]\n"
     ]
    }
   ],
   "source": [
    "from sklearn import svm\n",
    "from sklearn import datasets\n",
    "\n",
    "clf = svm.SVC(gamma=0.001, C=100.)\n",
    "digits = datasets.load_digits()\n",
    "\n",
    "print(digits.target.size)\n",
    "print(digits.target[0:13])\n",
    "#print(digits.data[:-1])\n",
    "#print(digits.target[:-1])\n",
    "#clf.fit(digits.data[:-1], digits.target[:-1])\n"
   ]
  },
  {
   "cell_type": "code",
   "execution_count": 44,
   "id": "7d7a26cb-567e-4c15-8938-d1372805b3e3",
   "metadata": {},
   "outputs": [
    {
     "data": {
      "text/plain": [
       "array([8])"
      ]
     },
     "execution_count": 44,
     "metadata": {},
     "output_type": "execute_result"
    }
   ],
   "source": [
    "clf.predict(digits.data[-1:])   # a value of 8 below correctly predicts "
   ]
  }
 ],
 "metadata": {
  "kernelspec": {
   "display_name": "Python 3",
   "language": "python",
   "name": "python3"
  },
  "language_info": {
   "codemirror_mode": {
    "name": "ipython",
    "version": 3
   },
   "file_extension": ".py",
   "mimetype": "text/x-python",
   "name": "python",
   "nbconvert_exporter": "python",
   "pygments_lexer": "ipython3",
   "version": "3.8.8"
  }
 },
 "nbformat": 4,
 "nbformat_minor": 5
}
