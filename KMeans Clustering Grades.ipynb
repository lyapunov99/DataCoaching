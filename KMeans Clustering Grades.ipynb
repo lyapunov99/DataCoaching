{
 "cells": [
  {
   "cell_type": "markdown",
   "id": "bf498d6a",
   "metadata": {},
   "source": [
    "# K-Means Exercise:  Student Clusters\n",
    "\n",
    "\n",
    "What is differentiated instruction, and why do you care?\n",
    "\n",
    "If you are interested in diminishing  inequities in your practice, your department, your college, or your institution, what is the measure of that disparate impact?  What are the methods of intervention you will consider?  What data sources will you look at?  \n",
    "\n",
    "Observing available data \"bootstraps\" this process of bringing to light inequities in a practice or in a system.  Participatory  Action Research (PAR) is a framework that helps us think about our students, our practice, and our institution. \n",
    "\n",
    "Take a look at the following table of hypothetical student scores in Math and Physics:\n",
    "\n",
    "\n",
    "\n",
    "| Student | Physics | Math |\n",
    "| ------- | ------- | ---- |\n",
    "| P       | 15      | 20   |\n",
    "| Q       | 20      | 15   |\n",
    "| R       | 26      | 21   |\n",
    "| X       | 44      | 52   |\n",
    "| Y       | 50      | 45   |\n",
    "| Z       | 57      | 38   |\n",
    "| A       | 80      | 85   |\n",
    "| B       | 90      | 88   |\n",
    "| C       | 98      | 98   |\n"
   ]
  },
  {
   "cell_type": "markdown",
   "id": "ce5566c4",
   "metadata": {},
   "source": []
  },
  {
   "cell_type": "code",
   "execution_count": 55,
   "id": "aabecfb5",
   "metadata": {},
   "outputs": [
    {
     "name": "stdout",
     "output_type": "stream",
     "text": [
      "[[50.33333333 45.        ]\n",
      " [89.33333333 90.33333333]\n",
      " [20.33333333 18.66666667]]\n",
      "[2 2 2 0 0 0 1 1 1]\n"
     ]
    }
   ],
   "source": [
    "from sklearn.cluster import KMeans\n",
    "import numpy as np\n",
    "\n",
    "\n",
    "#besX = np.array([[15,20],[20,15],[26,21],[44,52],[50,45],[57,38],[80,85],[90,88],[98,98] ])   #this works. Offer as orderd pairs\n",
    "\n",
    "# Or using 4 lines\n",
    "physicsScores = np.array([15,20,26,44,50,57,80,90,98])\n",
    "mathScores    = np.array([20,15,21,52,45,38,85,88,98])\n",
    "besPairedList = [[x,y] for x,y in zip(physicsScores, mathScores)  ]   #forms ordered pairs\n",
    "X = np.array(besPairedList)\n",
    "\n",
    "# COMPUTE K-MEANS Clustering\n",
    "kmeans = KMeans(n_clusters=3, random_state=0).fit(X)\n",
    "\n",
    "\n",
    "kmeans.predict([[0, 0], [12, 3]])  #returns indices of appropriate clusters ?\n",
    "\n",
    "print(kmeans.cluster_centers_)  # show the centroids (2 centroids, 2 clusters)\n",
    "print(kmeans.labels_)           # show the class (0 or 1) that each ordered pair belongs in \n",
    "\n",
    "\n"
   ]
  },
  {
   "cell_type": "markdown",
   "id": "55f3a8f8",
   "metadata": {},
   "source": [
    "# Basic Plotting\n",
    "In order to see  the data points and the centroids, we'll plot both.  For the next run, we want to plot clusters and centroids by color."
   ]
  },
  {
   "cell_type": "code",
   "execution_count": 58,
   "id": "2febf9b0",
   "metadata": {},
   "outputs": [
    {
     "data": {
      "image/png": "[encoded data removed]",
      "text/plain": [
       "<Figure size 432x288 with 1 Axes>"
      ]
     },
     "metadata": {
      "needs_background": "light"
     },
     "output_type": "display_data"
    }
   ],
   "source": [
    "import matplotlib.pyplot as plt\n",
    "plt.scatter(X[:, 0], X[:, -1])\n",
    "plt.scatter(kmeans.cluster_centers_[:, 0], kmeans.cluster_centers_[:, 1], c='red', marker='x')\n",
    "    \n",
    "plt.title('Data points and cluster centroids')\n",
    "plt.show()"
   ]
  },
  {
   "cell_type": "markdown",
   "id": "2ed13f46",
   "metadata": {},
   "source": [
    "It appears that we have 3 clusters in our graph.  Could this happen in reality? Is this information \n",
    "that you want to know about as a counselor, caculty, or school dean?  Is it important enough to you to try do something about the clustering you see?\n",
    "\n",
    "If you undergo an attempt to diminish the disparities, what questions will you ask?  If you wish to research the efficacy of your interventions, what data will you look at? What pre and post-tests will you perform in your research?  And in this  research\" endeavor, who is the subject?  Yourself, the students, the institution?  The [Participatory Action Research](https://en.wikipedia.org/wiki/Participatory_action_research)  framework starts with the idea that there are multiple participants in this research."
   ]
  },
  {
   "cell_type": "markdown",
   "id": "237980f0",
   "metadata": {},
   "source": [
    "# Evaluating the Cluster: silhouette scores\n",
    "\n",
    "- value b/t 1 and -1\n",
    "- 1 is best for any single data point\n",
    "- -1 is worst\n",
    "- values near zero indicate overlapping clusters\n",
    "- Can be used to determine an adequate value for k"
   ]
  },
  {
   "cell_type": "code",
   "execution_count": 48,
   "id": "34b611de",
   "metadata": {},
   "outputs": [
    {
     "name": "stdout",
     "output_type": "stream",
     "text": [
      "0.6793836143378945\n"
     ]
    }
   ],
   "source": [
    "# Calculate silhouette_score\n",
    "from sklearn.metrics import silhouette_score\n",
    "\n",
    "print(silhouette_score(X, kmeans.labels_))"
   ]
  },
  {
   "cell_type": "code",
   "execution_count": null,
   "id": "3e6a6cab",
   "metadata": {},
   "outputs": [],
   "source": []
  }
 ],
 "metadata": {
  "kernelspec": {
   "display_name": "Python 3",
   "language": "python",
   "name": "python3"
  },
  "language_info": {
   "codemirror_mode": {
    "name": "ipython",
    "version": 3
   },
   "file_extension": ".py",
   "mimetype": "text/x-python",
   "name": "python",
   "nbconvert_exporter": "python",
   "pygments_lexer": "ipython3",
   "version": "3.8.8"
  }
 },
 "nbformat": 4,
 "nbformat_minor": 5
}
