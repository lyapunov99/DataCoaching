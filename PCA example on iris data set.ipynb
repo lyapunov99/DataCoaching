{
 "cells": [
  {
   "cell_type": "markdown",
   "id": "805d62c9",
   "metadata": {},
   "source": [
    "# Principal Component Analysis Intro \n",
    "\n",
    "[Using PCA on Iris Data Set](https://www.math.umd.edu/~petersd/666/html/iris_pca.html#2)"
   ]
  },
  {
   "cell_type": "code",
   "execution_count": null,
   "id": "54935a6f",
   "metadata": {},
   "outputs": [],
   "source": []
  }
 ],
 "metadata": {
  "kernelspec": {
   "display_name": "Python 3",
   "language": "python",
   "name": "python3"
  },
  "language_info": {
   "codemirror_mode": {
    "name": "ipython",
    "version": 3
   },
   "file_extension": ".py",
   "mimetype": "text/x-python",
   "name": "python",
   "nbconvert_exporter": "python",
   "pygments_lexer": "ipython3",
   "version": "3.8.8"
  }
 },
 "nbformat": 4,
 "nbformat_minor": 5
}
