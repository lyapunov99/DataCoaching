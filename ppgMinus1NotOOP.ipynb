{
 "cells": [
  {
   "cell_type": "code",
   "execution_count": 18,
   "id": "eec9dd46",
   "metadata": {},
   "outputs": [
    {
     "name": "stdout",
     "output_type": "stream",
     "text": [
      "The cohorts read in are: \n",
      " african am asian decline filipinx latinx native am pac islander white\n",
      "Total successful:  120,088  \n",
      "Total number:      154,342 \n",
      "Overall success rate, all students       77.8 %\n"
     ]
    }
   ],
   "source": [
    "category_nm, cohort_sz, num_successful_cohort = [], [], []\n",
    "#f = open(\"input-deanza.csv\", 'r')\n",
    "\n",
    "f = open(\"C:/Users/khots/Google Drive/SWC/Data Coach/Model calculations and reports/Code/Python/input-deanza.csv\", 'r')    \n",
    "#f = open(\"C:/Users/khots/Google Drive/SWC/Data Coach/Model calculations and reports/Code/Python/input.csv\", 'r')\n",
    "next(f)  # skip the first line that contains column names\n",
    "\n",
    "# read information from the above file, and store into arraylists\n",
    "for line in f.readlines():\n",
    "    fields = line.split(',')                        # e.g., returns ['african am', '5758', '3686\\n']\n",
    "    category_nm.append((fields[0]))                 # appends 'african am' to an array list\n",
    "    cohort_sz.append(int(fields[1]))                # appends 5758 to an array list\n",
    "    num_successful_cohort.append(int(fields[2]))    # appends 3686 to an array list\n",
    "f.close()\n",
    "\n",
    "#num_objects = len(category_nm)      # get total number of groups or cohorts\n",
    "\n",
    "# print the cohorts under consideration\n",
    "\n",
    "l=[]\n",
    "for x in category_nm:\n",
    "    l.append(x)\n",
    "s = ' '.join(l)\n",
    "print('The cohorts read in are: \\n', s)\n",
    "\n",
    "cohort_total_successes = sum(num_successful_cohort)     # determine sum total number of successful individuals\n",
    "print(\"Total successful: {0:8,d}  \".format(cohort_total_successes) )\n",
    "cohort_total_size = sum(cohort_sz)  # determine sum total number of individuals\n",
    "print(\"Total number: {0:12,d} \".format(cohort_total_size) ) \n",
    "\n",
    "overall_success_rate = (cohort_total_successes / cohort_total_size)*100\n",
    "print(\"Overall success rate, all students  \", \"{:>8.1f}\".format(overall_success_rate), \"%\")   \n"
   ]
  },
  {
   "cell_type": "code",
   "execution_count": 2,
   "id": "b185d5a3",
   "metadata": {},
   "outputs": [
    {
     "data": {
      "text/plain": [
       "[3686, 58525, 1939, 7143, 25986, 510, 823, 21476]"
      ]
     },
     "execution_count": 2,
     "metadata": {},
     "output_type": "execute_result"
    }
   ],
   "source": [
    "num_successful_cohort"
   ]
  },
  {
   "cell_type": "code",
   "execution_count": 3,
   "id": "40927015",
   "metadata": {
    "scrolled": false
   },
   "outputs": [
    {
     "data": {
      "text/plain": [
       "[5758, 70512, 2364, 9652, 37660, 708, 1175, 26513]"
      ]
     },
     "execution_count": 3,
     "metadata": {},
     "output_type": "execute_result"
    }
   ],
   "source": [
    "cohort_sz"
   ]
  },
  {
   "cell_type": "code",
   "execution_count": 107,
   "id": "8a18ed2a",
   "metadata": {},
   "outputs": [
    {
     "name": "stdout",
     "output_type": "stream",
     "text": [
      "\n",
      "        PPG minus one values:\n",
      "        african am :     -14.3 %\n",
      "             asian :       9.6 %\n",
      "           decline :       4.3 %\n",
      "          filipinx :      -4.1 %\n",
      "            latinx :     -11.6 %\n",
      "         native am :      -5.8 %\n",
      "      pac islander :      -7.8 %\n",
      "             white :       3.9 %\n"
     ]
    }
   ],
   "source": [
    "successList = []\n",
    "print(\"\\n\", \"       PPG minus one values:\")\n",
    "for i in range(len(category_nm) ):\n",
    "    categSuccessRate = num_successful_cohort[i] / cohort_sz[i]     # success rate for a cohort\n",
    "    successList.append(categSuccessRate)\n",
    "    ppg_minus_one_success = (cohort_total_successes - num_successful_cohort[i]) / (cohort_total_size -  cohort_sz[i])\n",
    "\n",
    "    ppgOut = \"{:>8.1f}\".format((categSuccessRate - ppg_minus_one_success) * 100)\n",
    "    print(\"{:>18}\".format(category_nm[i]), \": \", ppgOut,\"%\")\n"
   ]
  },
  {
   "cell_type": "code",
   "execution_count": 64,
   "id": "c1056ed5",
   "metadata": {},
   "outputs": [
    {
     "data": {
      "image/png": "[encoded data removed]",
      "text/plain": [
       "<Figure size 432x288 with 1 Axes>"
      ]
     },
     "metadata": {
      "needs_background": "light"
     },
     "output_type": "display_data"
    }
   ],
   "source": [
    "import numpy as np\n",
    "import matplotlib.pyplot as plt\n",
    "\n",
    "fig = plt.figure()\n",
    "ax = fig.add_axes([0,0,1.5,.5])\n",
    "plt.axhline(y=overall_success_rate/100, color='r',linestyle='--')  #plot the average as a red line\n",
    "ax.bar(category_nm, successList)\n",
    "\n",
    "plt.show()"
   ]
  },
  {
   "cell_type": "code",
   "execution_count": 15,
   "id": "ea8513fb",
   "metadata": {},
   "outputs": [
    {
     "data": {
      "text/html": [
       "<div>\n",
       "<style scoped>\n",
       "    .dataframe tbody tr th:only-of-type {\n",
       "        vertical-align: middle;\n",
       "    }\n",
       "\n",
       "    .dataframe tbody tr th {\n",
       "        vertical-align: top;\n",
       "    }\n",
       "\n",
       "    .dataframe thead th {\n",
       "        text-align: right;\n",
       "    }\n",
       "</style>\n",
       "<table border=\"1\" class=\"dataframe\">\n",
       "  <thead>\n",
       "    <tr style=\"text-align: right;\">\n",
       "      <th></th>\n",
       "      <th>Cohort</th>\n",
       "      <th>CohortSz</th>\n",
       "      <th>CohortSuccessNum</th>\n",
       "    </tr>\n",
       "  </thead>\n",
       "  <tbody>\n",
       "    <tr>\n",
       "      <th>0</th>\n",
       "      <td>african am</td>\n",
       "      <td>5758</td>\n",
       "      <td>3686</td>\n",
       "    </tr>\n",
       "    <tr>\n",
       "      <th>1</th>\n",
       "      <td>asian</td>\n",
       "      <td>70512</td>\n",
       "      <td>58525</td>\n",
       "    </tr>\n",
       "    <tr>\n",
       "      <th>2</th>\n",
       "      <td>decline</td>\n",
       "      <td>2364</td>\n",
       "      <td>1939</td>\n",
       "    </tr>\n",
       "    <tr>\n",
       "      <th>3</th>\n",
       "      <td>filipinx</td>\n",
       "      <td>9652</td>\n",
       "      <td>7143</td>\n",
       "    </tr>\n",
       "    <tr>\n",
       "      <th>4</th>\n",
       "      <td>latinx</td>\n",
       "      <td>37660</td>\n",
       "      <td>25986</td>\n",
       "    </tr>\n",
       "    <tr>\n",
       "      <th>5</th>\n",
       "      <td>native am</td>\n",
       "      <td>708</td>\n",
       "      <td>510</td>\n",
       "    </tr>\n",
       "    <tr>\n",
       "      <th>6</th>\n",
       "      <td>pac islander</td>\n",
       "      <td>1175</td>\n",
       "      <td>823</td>\n",
       "    </tr>\n",
       "    <tr>\n",
       "      <th>7</th>\n",
       "      <td>white</td>\n",
       "      <td>26513</td>\n",
       "      <td>21476</td>\n",
       "    </tr>\n",
       "  </tbody>\n",
       "</table>\n",
       "</div>"
      ],
      "text/plain": [
       "         Cohort  CohortSz  CohortSuccessNum\n",
       "0    african am      5758              3686\n",
       "1         asian     70512             58525\n",
       "2       decline      2364              1939\n",
       "3      filipinx      9652              7143\n",
       "4        latinx     37660             25986\n",
       "5     native am       708               510\n",
       "6  pac islander      1175               823\n",
       "7         white     26513             21476"
      ]
     },
     "execution_count": 15,
     "metadata": {},
     "output_type": "execute_result"
    }
   ],
   "source": [
    "#pandas - python data analysis (pda) library \n",
    "import pandas as pd\n",
    "\n",
    "url = \"http://dept.swccd.edu/bsmith/Files/input-deanza.csv\"\n",
    "df = pd.read_csv(url)  #indicate that the csv file doesn't have a header row\n",
    "\n",
    "df.head(9)   #print first  lines\n",
    "\n",
    "#print(df.to_string())"
   ]
  },
  {
   "cell_type": "code",
   "execution_count": null,
   "id": "f7253ffd",
   "metadata": {},
   "outputs": [],
   "source": []
  }
 ],
 "metadata": {
  "kernelspec": {
   "display_name": "Python 3",
   "language": "python",
   "name": "python3"
  },
  "language_info": {
   "codemirror_mode": {
    "name": "ipython",
    "version": 3
   },
   "file_extension": ".py",
   "mimetype": "text/x-python",
   "name": "python",
   "nbconvert_exporter": "python",
   "pygments_lexer": "ipython3",
   "version": "3.8.8"
  }
 },
 "nbformat": 4,
 "nbformat_minor": 5
}
